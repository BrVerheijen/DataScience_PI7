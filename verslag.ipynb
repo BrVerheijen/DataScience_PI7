{
 "cells": [
  {
   "cell_type": "markdown",
   "metadata": {},
   "source": [
    "# PI7 Onderzoeksrapport\n",
    "#### Dajmen Graus en Bram Verheijen "
   ]
  },
  {
   "attachments": {},
   "cell_type": "markdown",
   "metadata": {},
   "source": [
    "# TODO\n",
    "## Accuracy score by linear regression (werken met train en test set)\n",
    "## Opdelen code stukken in kleinere stukken\n",
    "## Tekst schrijven"
   ]
  },
  {
   "attachments": {},
   "cell_type": "markdown",
   "metadata": {},
   "source": [
    "## Data Selectie/Preperation"
   ]
  },
  {
   "attachments": {},
   "cell_type": "markdown",
   "metadata": {},
   "source": [
    "### Imports en inlezen data"
   ]
  },
  {
   "cell_type": "code",
   "execution_count": null,
   "metadata": {},
   "outputs": [],
   "source": [
    "import pandas as pd\n",
    "import numpy as np\n",
    "import seaborn as sns\n",
    "from sklearn.model_selection import train_test_split\n",
    "from sklearn.linear_model import LinearRegression\n",
    "from sklearn.linear_model import LogisticRegression\n",
    "from sklearn.metrics import accuracy_score\n",
    "from sklearn.metrics import confusion_matrix as cm\n",
    "from sklearn.metrics import roc_curve, roc_auc_score\n",
    "from sklearn.metrics import mean_squared_error, mean_absolute_error\n",
    "from sklearn import preprocessing\n",
    "import matplotlib.pyplot as plt\n",
    "import statsmodels.api as sm\n",
    "from sklearn.metrics import r2_score\n",
    "from sklearn.metrics import mean_squared_error\n",
    "from scipy.special import expit\n",
    "\n",
    "df = pd.read_csv('winequality-red.csv')\n"
   ]
  },
  {
   "attachments": {},
   "cell_type": "markdown",
   "metadata": {},
   "source": [
    "### Preperatie voor Logistic Regression en Classification"
   ]
  },
  {
   "cell_type": "code",
   "execution_count": null,
   "metadata": {},
   "outputs": [],
   "source": [
    "# Low en High quality wine set (0 for low, 1 for high), set in label 'quality_range'\n",
    "bins = [0, 5, 10]\n",
    "\n",
    "labels = [0, 1]\n",
    "\n",
    "df_bins = df.copy()\n",
    "\n",
    "df_bins['quality_range'] = pd.cut(x=df_bins['quality'], bins=bins, labels=labels)\n"
   ]
  },
  {
   "cell_type": "markdown",
   "metadata": {},
   "source": [
    "## Uitwerkingen"
   ]
  },
  {
   "attachments": {},
   "cell_type": "markdown",
   "metadata": {},
   "source": [
    "### Multiple Linear Regression"
   ]
  },
  {
   "cell_type": "code",
   "execution_count": null,
   "metadata": {},
   "outputs": [],
   "source": [
    "#Multiple Linear Regression\n",
    "y_lin = df['quality']\n",
    "X_lin = df.drop('quality',axis=1)\n",
    "\n",
    "X_lin_train, X_lin_test, y_lin_train, y_lin_test = train_test_split(X_lin, y_lin, test_size=0.1, random_state=40)\n",
    "\n",
    "#Sklearn solution\n",
    "model_lin = LinearRegression()\n",
    "\n",
    "model_lin.fit(X_lin_train, y_lin_train)\n",
    "\n",
    "predictions = model_lin.predict(X_lin_test)\n",
    "\n",
    "print(\"Intercept: \\n\", model_lin.intercept_)\n",
    "print(\"Coefficients: \\n\", model_lin.coef_)\n"
   ]
  },
  {
   "cell_type": "code",
   "execution_count": null,
   "metadata": {},
   "outputs": [],
   "source": [
    "#SM (statsmodel.api) solution\n",
    "X_lin_train = sm.add_constant(X_lin_train)\n",
    "\n",
    "model_sm = sm.OLS(y_lin_train, X_lin_train).fit()\n",
    "predictions_sm = model_sm.predict(X_lin_train)\n",
    "\n",
    "print_model = model_sm.summary()\n",
    "print(print_model)"
   ]
  },
  {
   "cell_type": "code",
   "execution_count": null,
   "metadata": {},
   "outputs": [],
   "source": [
    "#Accuracy Testing\n",
    "train_accuracy = model_lin.score(X_lin_train, y_lin_train)\n",
    "test_accuracy = model_lin.score(X_lin_test, y_lin_test)\n",
    "\n",
    "y_lin_prediction = model_lin.predict(X_lin_test)\n",
    "\n",
    "lin_score = r2_score(y_lin_test, y_lin_prediction)\n",
    "\n",
    "print('One-vs-rest', '-'*35, \n",
    "      'Accuracy in Train Group   : {:.2f}'.format(train_accuracy), \n",
    "      'Accuracy in Test  Group   : {:.2f}'.format(test_accuracy), sep='\\n')\n",
    "\n",
    "print(\"\\n\")\n",
    "\n",
    "print('R2 and Mean errors', '-'*35, \n",
    "      'R2-score   : {:.2f}'.format(lin_score), \n",
    "      'Mean Squared Error   : {:.2f}'.format(mean_squared_error(y_lin_test,y_lin_prediction)),\n",
    "      'Root Mean Squared Error   : {:.2f}'.format(np.sqrt(mean_squared_error(y_lin_test,y_lin_prediction))), sep='\\n')\n"
   ]
  },
  {
   "attachments": {},
   "cell_type": "markdown",
   "metadata": {},
   "source": [
    "### Logistic Regression"
   ]
  },
  {
   "cell_type": "code",
   "execution_count": null,
   "metadata": {},
   "outputs": [],
   "source": [
    "\n",
    "#Set X and y, also split into train and test sets\n",
    "X_log = df_bins[['fixed acidity', 'volatile acidity', 'citric acid', 'residual sugar',\n",
    "       'chlorides', 'free sulfur dioxide', 'total sulfur dioxide', 'density',\n",
    "       'pH', 'sulphates', 'alcohol']]\n",
    "\n",
    "y_log = df_bins['quality_range']\n",
    "\n",
    "X_log_train, X_log_test, y_log_train, y_log_test = train_test_split(X_log, y_log, test_size=0.1, random_state=40)"
   ]
  },
  {
   "cell_type": "code",
   "execution_count": null,
   "metadata": {},
   "outputs": [],
   "source": [
    "#Logistic regression\n",
    "model_lr = LogisticRegression(random_state=40, max_iter=1600)\n",
    "\n",
    "model_lr.fit(X_log_train, y_log_train)\n",
    "\n",
    "train_accuracy = model_lr.score(X_log_train, y_log_train)\n",
    "test_accuracy = model_lr.score(X_log_test, y_log_test)\n",
    "\n",
    "print('One-vs-rest', '-'*35, \n",
    "      'Accuracy in Train Group   : {:.2f}'.format(train_accuracy), \n",
    "      'Accuracy in Test  Group   : {:.2f}'.format(test_accuracy), sep='\\n')\n"
   ]
  },
  {
   "cell_type": "code",
   "execution_count": null,
   "metadata": {},
   "outputs": [],
   "source": [
    "#Plot Logistic Regression\n",
    "plt.figure(1, figsize=(4, 3))\n",
    "plt.clf()\n",
    "plt.scatter(X_log_train['fixed acidity'], y_log_train, label=\"test data\", color='black')\n",
    "\n",
    "log_coef = model_lr.coef_\n",
    "\n",
    "log_coef = log_coef.reshape(11,1)\n",
    "\n",
    "loss = expit(X_log_test['fixed acidity'] * log_coef[0] + model_lr.intercept_).ravel()\n",
    "plt.plot(X_log_test, loss, label=\"Logistic Regression model fixed acidity\", color=\"red\")\n",
    "print(loss)\n",
    "\n",
    "plt.ylabel(\"Good/Bad Wine Quality\")\n",
    "plt.xlabel(\"fixed acidity\")\n",
    "plt.xlim(2,18)\n"
   ]
  },
  {
   "cell_type": "code",
   "execution_count": null,
   "metadata": {},
   "outputs": [],
   "source": [
    "\n",
    "log_predictions = model_lr.predict(X_log_test)\n",
    "\n",
    "#confusion matrix\n",
    "score = round(accuracy_score(y_log_test, log_predictions), 3)\n",
    "confusionMatrix_test = cm(y_log_test, log_predictions)\n",
    "sns.heatmap(confusionMatrix_test, annot=True, fmt='.0f')\n",
    "plt.xlabel('Predicted Values')\n",
    "plt.ylabel('Actual Values')\n",
    "plt.title('Accuracy Score: {0}'.format(score), size = 15)\n",
    "plt.show()\n",
    "\n",
    "#Array confusion matrix\n",
    "log_pred_test = model_lr.predict(X_log_test)\n",
    "log_pred_train = model_lr.predict(X_log_train)\n",
    "\n",
    "cm = cm(y_log_test, log_pred_test)\n",
    "print(cm)"
   ]
  },
  {
   "cell_type": "code",
   "execution_count": null,
   "metadata": {},
   "outputs": [],
   "source": [
    "#ROC-curve\n",
    "\n",
    "probs = model_lr.predict_proba(X_log_test)[:,1] #predifct probabilities for the test data\n",
    "\n",
    "fpr, tpr, thresholds =  roc_curve(y_log_test, probs) #Get ROC Curve\n",
    "\n",
    "plt.figure(figsize=(8,5))\n",
    "#Plot ROC curve\n",
    "plt.plot([0,1], [0,1], 'k--')\n",
    "plt.plot(fpr, tpr)\n",
    "plt.xlabel('1 - Specificity Score')\n",
    "plt.ylabel('Recall Score')\n",
    "plt.title('ROC-Curve')\n",
    "plt.show()\n"
   ]
  },
  {
   "cell_type": "markdown",
   "metadata": {},
   "source": [
    "## Conclusie"
   ]
  }
 ],
 "metadata": {
  "kernelspec": {
   "display_name": "Python 3.10.8 ('bd04')",
   "language": "python",
   "name": "python3"
  },
  "language_info": {
   "codemirror_mode": {
    "name": "ipython",
    "version": 3
   },
   "file_extension": ".py",
   "mimetype": "text/x-python",
   "name": "python",
   "nbconvert_exporter": "python",
   "pygments_lexer": "ipython3",
   "version": "3.10.8 | packaged by conda-forge | (main, Nov  4 2022, 13:42:51) [MSC v.1916 64 bit (AMD64)]"
  },
  "orig_nbformat": 4,
  "vscode": {
   "interpreter": {
    "hash": "d045bd1c9f21cbd324c3fee8810b32877d8b73fac13db8029883140816c6d6fe"
   }
  }
 },
 "nbformat": 4,
 "nbformat_minor": 2
}
