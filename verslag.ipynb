{
 "cells": [
  {
   "cell_type": "markdown",
   "metadata": {},
   "source": [
    "# PI7 Onderzoeksrapport\n",
    "#### Dajmen Graus en Bram Verheijen "
   ]
  },
  {
   "attachments": {},
   "cell_type": "markdown",
   "metadata": {},
   "source": [
    "# TODO\n",
    "## Accuracy score by linear regression (werken met train en test set)\n",
    "## Opdelen code stukken in kleinere stukken\n",
    "## Tekst schrijven"
   ]
  },
  {
   "attachments": {},
   "cell_type": "markdown",
   "metadata": {},
   "source": [
    "## Data Selectie/Preperation"
   ]
  },
  {
   "attachments": {},
   "cell_type": "markdown",
   "metadata": {},
   "source": [
    "### Imports en inlezen data"
   ]
  },
  {
   "cell_type": "code",
   "execution_count": 10,
   "metadata": {},
   "outputs": [],
   "source": [
    "import pandas as pd\n",
    "import numpy as np\n",
    "import seaborn as sns\n",
    "from sklearn.model_selection import train_test_split\n",
    "from sklearn.linear_model import LinearRegression\n",
    "from sklearn.linear_model import LogisticRegression\n",
    "from sklearn.metrics import accuracy_score\n",
    "from sklearn.metrics import confusion_matrix as cm\n",
    "from sklearn.metrics import roc_curve, roc_auc_score\n",
    "from sklearn.metrics import mean_squared_error, mean_absolute_error\n",
    "from sklearn import preprocessing\n",
    "import matplotlib.pyplot as plt\n",
    "import statsmodels.api as sm\n",
    "from sklearn.metrics import r2_score\n",
    "from sklearn.metrics import mean_squared_error\n",
    "from scipy.special import expit\n",
    "\n",
    "df = pd.read_csv('winequality-red.csv')\n"
   ]
  },
  {
   "attachments": {},
   "cell_type": "markdown",
   "metadata": {},
   "source": [
    "### Preperatie voor Logistic Regression en Classification"
   ]
  },
  {
   "cell_type": "code",
   "execution_count": 2,
   "metadata": {},
   "outputs": [],
   "source": [
    "# Low en High quality wine set (0 for low, 1 for high), set in label 'quality_range'\n",
    "bins = [0, 5, 10]\n",
    "\n",
    "labels = [0, 1]\n",
    "\n",
    "df_bins = df.copy()\n",
    "\n",
    "df_bins['quality_range'] = pd.cut(x=df_bins['quality'], bins=bins, labels=labels)\n"
   ]
  },
  {
   "cell_type": "markdown",
   "metadata": {},
   "source": [
    "## Uitwerkingen"
   ]
  },
  {
   "attachments": {},
   "cell_type": "markdown",
   "metadata": {},
   "source": [
    "### Multiple Linear Regression"
   ]
  },
  {
   "cell_type": "code",
   "execution_count": 23,
   "metadata": {},
   "outputs": [
    {
     "name": "stdout",
     "output_type": "stream",
     "text": [
      "Intercept: \n",
      " 15.335718506836685\n",
      "Coefficients: \n",
      " [ 2.54597245e-02 -1.07706341e+00 -2.02785449e-01  1.38509688e-02\n",
      " -1.73613411e+00  3.62196555e-03 -2.99237597e-03 -1.12547406e+01\n",
      " -4.15741388e-01  8.43417688e-01  2.82638815e-01]\n"
     ]
    }
   ],
   "source": [
    "#Multiple Linear Regression\n",
    "y_lin = df['quality']\n",
    "X_lin = df.drop('quality',axis=1)\n",
    "\n",
    "X_lin_train, X_lin_test, y_lin_train, y_lin_test = train_test_split(X_lin, y_lin, test_size=0.1, random_state=40)\n",
    "\n",
    "#Sklearn solution\n",
    "model_lin = LinearRegression()\n",
    "\n",
    "model_lin.fit(X_lin_train, y_lin_train)\n",
    "\n",
    "predictions = model_lin.predict(X_lin_test)\n",
    "\n",
    "print(\"Intercept: \\n\", model_lin.intercept_)\n",
    "print(\"Coefficients: \\n\", model_lin.coef_)\n"
   ]
  },
  {
   "cell_type": "code",
   "execution_count": 22,
   "metadata": {},
   "outputs": [
    {
     "name": "stdout",
     "output_type": "stream",
     "text": [
      "                            OLS Regression Results                            \n",
      "==============================================================================\n",
      "Dep. Variable:                quality   R-squared:                       0.351\n",
      "Model:                            OLS   Adj. R-squared:                  0.346\n",
      "Method:                 Least Squares   F-statistic:                     70.08\n",
      "Date:                Fri, 09 Dec 2022   Prob (F-statistic):          1.78e-125\n",
      "Time:                        21:43:12   Log-Likelihood:                -1421.5\n",
      "No. Observations:                1439   AIC:                             2867.\n",
      "Df Residuals:                    1427   BIC:                             2930.\n",
      "Df Model:                          11                                         \n",
      "Covariance Type:            nonrobust                                         \n",
      "========================================================================================\n",
      "                           coef    std err          t      P>|t|      [0.025      0.975]\n",
      "----------------------------------------------------------------------------------------\n",
      "const                   15.3357     22.429      0.684      0.494     -28.661      59.332\n",
      "fixed acidity            0.0255      0.027      0.930      0.352      -0.028       0.079\n",
      "volatile acidity        -1.0771      0.128     -8.413      0.000      -1.328      -0.826\n",
      "citric acid             -0.2028      0.155     -1.307      0.191      -0.507       0.101\n",
      "residual sugar           0.0139      0.016      0.880      0.379      -0.017       0.045\n",
      "chlorides               -1.7361      0.446     -3.892      0.000      -2.611      -0.861\n",
      "free sulfur dioxide      0.0036      0.002      1.572      0.116      -0.001       0.008\n",
      "total sulfur dioxide    -0.0030      0.001     -3.903      0.000      -0.004      -0.001\n",
      "density                -11.2547     22.888     -0.492      0.623     -56.153      33.643\n",
      "pH                      -0.4157      0.201     -2.065      0.039      -0.811      -0.021\n",
      "sulphates                0.8434      0.124      6.815      0.000       0.601       1.086\n",
      "alcohol                  0.2826      0.028      9.967      0.000       0.227       0.338\n",
      "==============================================================================\n",
      "Omnibus:                       27.946   Durbin-Watson:                   2.024\n",
      "Prob(Omnibus):                  0.000   Jarque-Bera (JB):               42.098\n",
      "Skew:                          -0.188   Prob(JB):                     7.22e-10\n",
      "Kurtosis:                       3.749   Cond. No.                     1.14e+05\n",
      "==============================================================================\n",
      "\n",
      "Notes:\n",
      "[1] Standard Errors assume that the covariance matrix of the errors is correctly specified.\n",
      "[2] The condition number is large, 1.14e+05. This might indicate that there are\n",
      "strong multicollinearity or other numerical problems.\n"
     ]
    }
   ],
   "source": [
    "#SM (statsmodel.api) solution\n",
    "X_lin_train = sm.add_constant(X_lin_train)\n",
    "\n",
    "model_sm = sm.OLS(y_lin_train, X_lin_train).fit()\n",
    "predictions_sm = model_sm.predict(X_lin_train)\n",
    "\n",
    "print_model = model_sm.summary()\n",
    "print(print_model)"
   ]
  },
  {
   "cell_type": "code",
   "execution_count": 9,
   "metadata": {},
   "outputs": [
    {
     "name": "stdout",
     "output_type": "stream",
     "text": [
      "One-vs-rest\n",
      "-----------------------------------\n",
      "Accuracy in Train Group   : 0.35\n",
      "Accuracy in Test  Group   : 0.44\n",
      "\n",
      "\n",
      "R2 and Mean errors\n",
      "-----------------------------------\n",
      "R2-score   : 0.44\n",
      "Mean Squared Error   : 0.37\n",
      "Root Mean Squared Error   : 0.61\n"
     ]
    }
   ],
   "source": [
    "#Accuracy Testing\n",
    "train_accuracy = model_lin.score(X_lin_train, y_lin_train)\n",
    "test_accuracy = model_lin.score(X_lin_test, y_lin_test)\n",
    "\n",
    "y_lin_prediction = model_lin.predict(X_lin_test)\n",
    "\n",
    "lin_score = r2_score(y_lin_test, y_lin_prediction)\n",
    "\n",
    "print('One-vs-rest', '-'*35, \n",
    "      'Accuracy in Train Group   : {:.2f}'.format(train_accuracy), \n",
    "      'Accuracy in Test  Group   : {:.2f}'.format(test_accuracy), sep='\\n')\n",
    "\n",
    "print(\"\\n\")\n",
    "\n",
    "print('R2 and Mean errors', '-'*35, \n",
    "      'R2-score   : {:.2f}'.format(lin_score), \n",
    "      'Mean Squared Error   : {:.2f}'.format(mean_squared_error(y_lin_test,y_lin_prediction)),\n",
    "      'Root Mean Squared Error   : {:.2f}'.format(np.sqrt(mean_squared_error(y_lin_test,y_lin_prediction))), sep='\\n')\n"
   ]
  },
  {
   "attachments": {},
   "cell_type": "markdown",
   "metadata": {},
   "source": [
    "### Logistic Regression"
   ]
  },
  {
   "cell_type": "code",
   "execution_count": 12,
   "metadata": {},
   "outputs": [],
   "source": [
    "\n",
    "#Set X and y, also split into train and test sets\n",
    "X_log = df_bins[['fixed acidity', 'volatile acidity', 'citric acid', 'residual sugar',\n",
    "       'chlorides', 'free sulfur dioxide', 'total sulfur dioxide', 'density',\n",
    "       'pH', 'sulphates', 'alcohol']]\n",
    "\n",
    "y_log = df_bins['quality_range']\n",
    "\n",
    "X_log_train, X_log_test, y_log_train, y_log_test = train_test_split(X_log, y_log, test_size=0.1, random_state=40)"
   ]
  },
  {
   "cell_type": "code",
   "execution_count": 13,
   "metadata": {},
   "outputs": [
    {
     "name": "stdout",
     "output_type": "stream",
     "text": [
      "One-vs-rest\n",
      "-----------------------------------\n",
      "Accuracy in Train Group   : 0.74\n",
      "Accuracy in Test  Group   : 0.79\n"
     ]
    }
   ],
   "source": [
    "#Logistic regression\n",
    "model_lr = LogisticRegression(random_state=40, max_iter=1600)\n",
    "\n",
    "model_lr.fit(X_log_train, y_log_train)\n",
    "\n",
    "train_accuracy = model_lr.score(X_log_train, y_log_train)\n",
    "test_accuracy = model_lr.score(X_log_test, y_log_test)\n",
    "\n",
    "print('One-vs-rest', '-'*35, \n",
    "      'Accuracy in Train Group   : {:.2f}'.format(train_accuracy), \n",
    "      'Accuracy in Test  Group   : {:.2f}'.format(test_accuracy), sep='\\n')\n"
   ]
  },
  {
   "cell_type": "code",
   "execution_count": 48,
   "metadata": {},
   "outputs": [
    {
     "name": "stdout",
     "output_type": "stream",
     "text": [
      "[0.00074751 0.0004302  0.00068596 0.00105407 0.00052359 0.00055674\n",
      " 0.00088767 0.00084514 0.0005993  0.00087684 0.00040958 0.00059199\n",
      " 0.00048047 0.00059199 0.00053661 0.00066115 0.0005172  0.00077555\n",
      " 0.00053006 0.0005172  0.00054324 0.00057763 0.00057058 0.00067759\n",
      " 0.00068596 0.00059199 0.00048047 0.00055674 0.00046309 0.00073839\n",
      " 0.00062179 0.00054324 0.00056362 0.00066932 0.00050465 0.0004985\n",
      " 0.00044089 0.00064512 0.00058477 0.00088767 0.00084514 0.00049241\n",
      " 0.00079483 0.00044634 0.00072938 0.00055674 0.00054324 0.00075674\n",
      " 0.0005172  0.00059199 0.00084514 0.00066932 0.00050465 0.00145016\n",
      " 0.00056362 0.00058477 0.00082464 0.0005172  0.00046309 0.00069443\n",
      " 0.00059199 0.00057058 0.00057058 0.00062179 0.0004746  0.00097925\n",
      " 0.00055674 0.00077555 0.00053661 0.00059199 0.00066115 0.00059199\n",
      " 0.00049241 0.00044634 0.00100358 0.00051089 0.00056362 0.00052359\n",
      " 0.00093233 0.00078513 0.0004746  0.00054995 0.00094385 0.00076609\n",
      " 0.00054324 0.00079483 0.00093233 0.00058477 0.00045186 0.00063725\n",
      " 0.00050465 0.00052359 0.00057058 0.00058477 0.00064512 0.00081458\n",
      " 0.00075674 0.00049241 0.0004302  0.00054324 0.00071169 0.0004985\n",
      " 0.0004985  0.0005993  0.00068596 0.00146806 0.00088767 0.00080464\n",
      " 0.00058477 0.00046881 0.00063725 0.00063725 0.00053661 0.00070301\n",
      " 0.0004985  0.00052359 0.00068596 0.00053661 0.00076609 0.00079483\n",
      " 0.00049241 0.0004864  0.00062179 0.00063725 0.00053661 0.0005993\n",
      " 0.00073839 0.00054324 0.00068596 0.0005172  0.00044634 0.00056362\n",
      " 0.00075674 0.00053661 0.00056362 0.00050465 0.00065309 0.00051089\n",
      " 0.00046881 0.00056362 0.00045186 0.00058477 0.00052359 0.00051089\n",
      " 0.00045744 0.00052359 0.00073839 0.00051089 0.00078513 0.00078513\n",
      " 0.00066115 0.00045186 0.00051089 0.0004864  0.00092096 0.00053661\n",
      " 0.00054995 0.00041464 0.00049241 0.00050465]\n"
     ]
    },
    {
     "data": {
      "text/plain": [
       "(2.0, 18.0)"
      ]
     },
     "execution_count": 48,
     "metadata": {},
     "output_type": "execute_result"
    },
    {
     "data": {
      "image/png": "[encoded data removed]",
      "text/plain": [
       "<Figure size 400x300 with 1 Axes>"
      ]
     },
     "metadata": {},
     "output_type": "display_data"
    }
   ],
   "source": [
    "#Plot Logistic Regression\n",
    "plt.figure(1, figsize=(4, 3))\n",
    "plt.clf()\n",
    "plt.scatter(X_log_train['fixed acidity'], y_log_train, label=\"test data\", color='black')\n",
    "\n",
    "log_coef = model_lr.coef_\n",
    "\n",
    "log_coef = log_coef.reshape(11,1)\n",
    "\n",
    "loss = expit(X_log_test['fixed acidity'] * log_coef[0] + model_lr.intercept_).ravel()\n",
    "plt.plot(X_log_test, loss, label=\"Logistic Regression model fixed acidity\", color=\"red\")\n",
    "print(loss)\n",
    "\n",
    "plt.ylabel(\"Good/Bad Wine Quality\")\n",
    "plt.xlabel(\"fixed acidity\")\n",
    "plt.xlim(2,18)\n"
   ]
  },
  {
   "cell_type": "code",
   "execution_count": null,
   "metadata": {},
   "outputs": [],
   "source": [
    "\n",
    "log_predictions = model_lr.predict(X_log_test)\n",
    "\n",
    "#confusion matrix\n",
    "score = round(accuracy_score(y_log_test, log_predictions), 3)\n",
    "confusionMatrix_test = cm(y_log_test, log_predictions)\n",
    "sns.heatmap(confusionMatrix_test, annot=True, fmt='.0f')\n",
    "plt.xlabel('Predicted Values')\n",
    "plt.ylabel('Actual Values')\n",
    "plt.title('Accuracy Score: {0}'.format(score), size = 15)\n",
    "plt.show()\n",
    "\n",
    "#Array confusion matrix\n",
    "log_pred_test = model_lr.predict(X_log_test)\n",
    "log_pred_train = model_lr.predict(X_log_train)\n",
    "\n",
    "cm = cm(y_log_test, log_pred_test)\n",
    "print(cm)"
   ]
  },
  {
   "cell_type": "code",
   "execution_count": null,
   "metadata": {},
   "outputs": [],
   "source": [
    "#ROC-curve\n",
    "\n",
    "probs = model_lr.predict_proba(X_log_test)[:,1] #predifct probabilities for the test data\n",
    "\n",
    "fpr, tpr, thresholds =  roc_curve(y_log_test, probs) #Get ROC Curve\n",
    "\n",
    "plt.figure(figsize=(8,5))\n",
    "#Plot ROC curve\n",
    "plt.plot([0,1], [0,1], 'k--')\n",
    "plt.plot(fpr, tpr)\n",
    "plt.xlabel('1 - Specificity Score')\n",
    "plt.ylabel('Recall Score')\n",
    "plt.title('ROC-Curve')\n",
    "plt.show()\n"
   ]
  },
  {
   "cell_type": "markdown",
   "metadata": {},
   "source": [
    "## Conclusie"
   ]
  }
 ],
 "metadata": {
  "kernelspec": {
   "display_name": "Python 3.10.8 ('bd04')",
   "language": "python",
   "name": "python3"
  },
  "language_info": {
   "codemirror_mode": {
    "name": "ipython",
    "version": 3
   },
   "file_extension": ".py",
   "mimetype": "text/x-python",
   "name": "python",
   "nbconvert_exporter": "python",
   "pygments_lexer": "ipython3",
   "version": "3.10.8"
  },
  "orig_nbformat": 4,
  "vscode": {
   "interpreter": {
    "hash": "d045bd1c9f21cbd324c3fee8810b32877d8b73fac13db8029883140816c6d6fe"
   }
  }
 },
 "nbformat": 4,
 "nbformat_minor": 2
}
